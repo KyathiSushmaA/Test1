{
  "nbformat": 4,
  "nbformat_minor": 0,
  "metadata": {
    "colab": {
      "provenance": [],
      "toc_visible": true,
      "authorship_tag": "ABX9TyP5LxJ55H80tJ/9mlLH7hC1",
      "include_colab_link": true
    },
    "kernelspec": {
      "name": "python3",
      "display_name": "Python 3"
    },
    "language_info": {
      "name": "python"
    }
  },
  "cells": [
    {
      "cell_type": "markdown",
      "metadata": {
        "id": "view-in-github",
        "colab_type": "text"
      },
      "source": [
        "<a href=\"https://colab.research.google.com/github/KyathiSushmaA/Test1/blob/main/CS620_Obesity.ipynb\" target=\"_parent\"><img src=\"https://colab.research.google.com/assets/colab-badge.svg\" alt=\"Open In Colab\"/></a>"
      ]
    },
    {
      "cell_type": "markdown",
      "source": [
        "# **Exploring Obesity Trends Across Age Groups, States, and Race/Ethnicity Over Time**"
      ],
      "metadata": {
        "id": "jYF_6ET7g69i"
      }
    },
    {
      "cell_type": "markdown",
      "source": [
        "## **Collaborators**"
      ],
      "metadata": {
        "id": "A0vG-PVshST1"
      }
    },
    {
      "cell_type": "markdown",
      "source": [
        "**Teammate -1**\n",
        "\n",
        "**Name -** Kyathi Sushma Arikatla\n",
        "\n",
        "**Mail id -** Karik001@odu.edu\n",
        "\n",
        "**UIN -** 01290887\n",
        "  \n",
        "**E-Portfolio -**\n"
      ],
      "metadata": {
        "id": "jvkc_LPfjsk3"
      }
    },
    {
      "cell_type": "markdown",
      "source": [
        "**Teammate - 2**\n",
        "\n",
        "**Name -**\n",
        "  \n",
        "**Mail id -**\n",
        "  \n",
        "**UIN -**\n",
        "  \n",
        "**E-Portfolio -**\n"
      ],
      "metadata": {
        "id": "kzvxeTJR0Fce"
      }
    },
    {
      "cell_type": "markdown",
      "source": [
        "**Teammate - 3**\n",
        "\n",
        "**Name -**\n",
        "  \n",
        "**Mail id -**\n",
        "  \n",
        "**UIN -**\n",
        "  \n",
        "**E-Portfolio -**"
      ],
      "metadata": {
        "id": "F8HsAY5u0BCd"
      }
    },
    {
      "cell_type": "markdown",
      "source": [
        "# **Abstract**"
      ],
      "metadata": {
        "id": "YYLbYKx1hEpt"
      }
    },
    {
      "cell_type": "markdown",
      "source": [
        "This project aims to analyze obesity trends in the United States across different states, age groups, and race/ethnicity categories, using two datasets related to nutrition, physical activity, and obesity. Our focus is on comparing the trends in obesity rates between two distinct age groups: Group 1 (children aged 3 months to 4 years) and Group 2 (adults aged 20 years to 75+ years). The analysis will uncover patterns in obesity trends over the years, identify states that have shown significant improvement or worsening trends, and explore whether certain race/ethnicity groups have experienced notable changes in weight categories (normal weight, overweight, and obesity).\n",
        "\n",
        "Additionally, we will examine correlations between childhood obesity (Group 1) and adult obesity (Group 2) within the same states to determine if a connection exists between obesity rates in children and adults. Furthermore, we will investigate regional differences by comparing obesity rates between southern and northern states for both children and adults, segmented by race/ethnicity.\n",
        "\n",
        "The project will involve data wrangling, exploratory analysis, data visualization, and the application of statistical models to answer the key questions. Ultimately, our goal is to provide data-driven insights into the factors driving obesity trends and to offer policy recommendations for targeting at-risk states and demographic groups."
      ],
      "metadata": {
        "id": "HGRV1FtZjsFz"
      }
    },
    {
      "cell_type": "markdown",
      "source": [
        "## **Datasets**"
      ],
      "metadata": {
        "id": "gcN31UtuhzGp"
      }
    },
    {
      "cell_type": "markdown",
      "source": [
        "**Main Dataset:**\n",
        "\n",
        "URL: https://catalog.data.gov/dataset/normal-weight-overweight-and-obesity-among-adults-aged-20-and-over-by-selected-characteris-8e2b1\n",
        "\n",
        "Description: This dataset provides information on the weight categories (normal weight, overweight, and obesity) for adults aged 20 and over, segmented by various characteristics like race/ethnicity, sex, and state.\n"
      ],
      "metadata": {
        "id": "H11Hkf4bjras"
      }
    },
    {
      "cell_type": "code",
      "source": [
        "#First Few Records of original data:\n",
        "\n",
        "INDICATOR,PANEL,PANEL_NUM,UNIT,UNIT_NUM,STUB_NAME,STUB_NAME_NUM,STUB_LABEL,STUB_LABEL_NUM,YEAR,YEAR_NUM,AGE,AGE_NUM,ESTIMATE,SE,FLAG\n",
        "\"Normal weight, overweight, and obesity among adults aged 20 and over\",Normal weight (BMI from 18.5 to 24.9),1,\"Percent of population, age-adjusted\",1,Total,1,20 years and over,1.1,1988-1994,1,20 years and over,1,41.6,0.8,\n",
        "\"Normal weight, overweight, and obesity among adults aged 20 and over\",Normal weight (BMI from 18.5 to 24.9),1,\"Percent of population, age-adjusted\",1,Total,1,20 years and over,1.1,1999-2002,2,20 years and over,1,33.0,0.8,\n",
        "\"Normal weight, overweight, and obesity among adults aged 20 and over\",Normal weight (BMI from 18.5 to 24.9),1,\"Percent of population, age-adjusted\",1,Total,1,20 years and over,1.1,2001-2004,3,20 years and over,1,32.3,0.7,\n",
        "\"Normal weight, overweight, and obesity among adults aged 20 and over\",Normal weight (BMI from 18.5 to 24.9),1,\"Percent of population, age-adjusted\",1,Total,1,20 years and over,1.1,2003-2006,4,20 years and over,1,31.6,0.8,\n"
      ],
      "metadata": {
        "id": "frEs36JIu_G3"
      },
      "execution_count": null,
      "outputs": []
    },
    {
      "cell_type": "markdown",
      "source": [
        "**Sub-dataset:**\n",
        "\n",
        "URL: https://catalog.data.gov/dataset/nutrition-physical-activity-and-obesity-women-infant-and-child\n",
        "\n",
        "Description: This dataset focuses on nutrition and obesity-related statistics for women, infants, and children, across different states and race/ethnicity groups."
      ],
      "metadata": {
        "id": "aBSEBC9tu_ws"
      }
    },
    {
      "cell_type": "code",
      "source": [
        "#First Few Records of original data:\n",
        "\n",
        "YearStart,YearEnd,LocationAbbr,LocationDesc,Datasource,Class,Topic,Question,Data_Value_Unit,Data_Value_Type,Data_Value,Data_Value_Alt,Data_Value_Footnote_Symbol,Data_Value_Footnote,Low_Confidence_Limit,High_Confidence_Limit ,Sample_Size,Total,Age(months),Gender,Race/Ethnicity,GeoLocation,ClassID,TopicID,QuestionID,DataValueTypeID,LocationID,StratificationCategory1,Stratification1,StratificationCategoryId1,StratificationID1\n",
        "2018,2018,WA,Washington,\"Women, Infants, and Children Participant and Program Characteristics\",Obesity / Weight Status,Obesity / Weight Status,Percent of WIC children aged 3-23 months old who have a high weight-for-length,,Value,13.7,13.7,,,13.1,14.3,12230,,18 - 23,,,\"(47.52227862900048, -120.47001078999972)\",OWS,OWS1,Q060,VALUE,53,Age (months),18 - 23,AGEMO,AGEMO1823\n",
        "2018,2018,HI,Hawaii,\"Women, Infants, and Children Participant and Program Characteristics\",Obesity / Weight Status,Obesity / Weight Status,Percent of WIC children aged 3-23 months old who have a high weight-for-length,,Value,10.2,10.2,,,8.9,11.4,2192,,,,Hispanic,\"(21.304850435000446, -157.85774940299973)\",OWS,OWS1,Q060,VALUE,15,Race/Ethnicity,Hispanic,RACE,RACEHIS\n",
        "2020,2020,MA,Massachusetts,\"Women, Infants, and Children Participant and Program Characteristics\",Obesity / Weight Status,Obesity / Weight Status,Percent of WIC children aged 2 to 4 years who have an overweight classification,,Value,17.6,17.6,,,17.0,18.2,13520,,,,Hispanic,\"(42.27687047000046, -72.08269067499964)\",OWS,OWS1,Q040,VALUE,25,Race/Ethnicity,Hispanic,RACE,RACEHIS\n",
        "2020,2020,TN,Tennessee,\"Women, Infants, and Children Participant and Program Characteristics\",Obesity / Weight Status,Obesity / Weight Status,Percent of WIC children aged 2 to 4 years who have an overweight classification,,Value,18.9,18.9,,,17.9,20.1,4947,,,,Hispanic,\"(35.68094058000048, -85.77449091399967)\",OWS,OWS1,Q040,VALUE,47,Race/Ethnicity,Hispanic,RACE,RACEHIS\n"
      ],
      "metadata": {
        "id": "4OHPNVe1vAW1"
      },
      "execution_count": null,
      "outputs": []
    },
    {
      "cell_type": "markdown",
      "source": [
        "## **End goal**"
      ],
      "metadata": {
        "id": "3F0SmNDTh7iE"
      }
    },
    {
      "cell_type": "markdown",
      "source": [
        "Our goal is to conduct an exploratory analysis to identify patterns, trends, and correlations in obesity rates across various dimensions such as state, age group, and race/ethnicity.\n",
        "The outcome of the project will include:\n",
        "* **Data Visualization:** Generate comparative charts and graphs showing trends and disparities in obesity rates across states, age groups, and race/ethnicity.\n",
        "* **Statistical Modeling:** Establish correlations between childhood and adult obesity within states and among race/ethnicity groups.\n",
        "* **Predictive Insights:** Build a regression model to predict future obesity trends for children based on historical adult obesity data.\n",
        "* **Policy Recommendations:** Offer data-backed suggestions for policymakers to focus on states or demographic groups with concerning trends.\n"
      ],
      "metadata": {
        "id": "Da0kPaATjq4W"
      }
    },
    {
      "cell_type": "markdown",
      "source": [
        "# **Project Plan**"
      ],
      "metadata": {
        "id": "7Cre_5Ooiahr"
      }
    },
    {
      "cell_type": "markdown",
      "source": [
        "\n",
        "* Prepare Data: 09/11/24 - 09/14/24 ✅\n",
        "\n",
        "* Complete Abstract: 09/15/24 ✅\n",
        "\n",
        "* Clean and format Data: 09/16/24 - 09/30/24\n",
        "\n",
        "* Data Processing:10/01/24 - 10/12/24\n",
        "\n",
        "* Progress check I: 10/13/24  \n",
        "\n",
        "* Data Processing continue:10/14/24 - 10/18/24\n",
        "\n",
        "* Data Analysis: 10/19/24 - 10/31/24\n",
        "\n",
        "* Visualizations Creation: 11/01/24 - 11/08/24\n",
        "\n",
        "* Progress Check II: 11/10/24\n",
        "\n",
        "* Project Draft Report: 11/10/24 - 11/28/24\n",
        "\n",
        "* Project Final Report: 12/02/24 - 12/5/24\n",
        "\n",
        "* Presentation and Video Submition: 12/8/24\n"
      ],
      "metadata": {
        "id": "qO3NBTI9jqYi"
      }
    },
    {
      "cell_type": "markdown",
      "source": [
        "# **Conclusion**"
      ],
      "metadata": {
        "id": "7xKU6ROHjJAi"
      }
    },
    {
      "cell_type": "markdown",
      "source": [
        "This project offers an opportunity to apply data science techniques to a real-world issue affecting public health. Our goal is to not only analyze trends but also derive meaningful insights that can help in obesity prevention strategies."
      ],
      "metadata": {
        "id": "4uyQaOUZjiWB"
      }
    }
  ]
}